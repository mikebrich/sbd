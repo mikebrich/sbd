{
 "cells": [
  {
   "cell_type": "markdown",
   "id": "1ad49a4d-28a1-45e6-8a84-a876d01d9c14",
   "metadata": {},
   "source": [
    "## Imports"
   ]
  },
  {
   "cell_type": "code",
   "execution_count": 2,
   "id": "1e2a6a58-0b16-49b0-bb5c-d76955a7ecf0",
   "metadata": {},
   "outputs": [],
   "source": [
    "import pandas as pd\n",
    "import numpy as np\n",
    "from pulp import LpMaximize, LpProblem, LpVariable, lpSum, LpStatus, value #Linear Optimization Library"
   ]
  },
  {
   "cell_type": "markdown",
   "id": "ab0ac348-9cb6-4446-9fee-0577c5ff28ac",
   "metadata": {},
   "source": [
    "## Load Given Variables"
   ]
  },
  {
   "cell_type": "markdown",
   "id": "93109cbc-1c04-4d0b-827a-e2b4a2ba4dad",
   "metadata": {},
   "source": [
    "**Note: I hid the output of some of these variables as they are quite long.**"
   ]
  },
  {
   "attachments": {},
   "cell_type": "markdown",
   "id": "32cc259c-58ca-46eb-a3bb-0aefb72598c2",
   "metadata": {},
   "source": [
    "#### N+1 cities (C0 ... Cn)"
   ]
  },
  {
   "cell_type": "code",
   "execution_count": 6,
   "id": "d80fd0e2-f6de-4c63-92db-a33035e31545",
   "metadata": {},
   "outputs": [
    {
     "data": {
      "text/plain": [
       "['Allentown',\n",
       " 'Charlotte',\n",
       " 'Chicago',\n",
       " 'Dallas',\n",
       " 'Fontana',\n",
       " 'Nashville',\n",
       " 'Portland',\n",
       " 'Tucson']"
      ]
     },
     "execution_count": 6,
     "metadata": {},
     "output_type": "execute_result"
    }
   ],
   "source": [
    "C = ['Allentown', 'Charlotte', 'Chicago', 'Dallas', 'Fontana', 'Nashville', 'Portland', 'Tucson']\n",
    "C"
   ]
  },
  {
   "cell_type": "markdown",
   "id": "794d8c2d-67f2-4aaa-b7ca-9219b0a0eb07",
   "metadata": {},
   "source": [
    "#### M+1 products (P0 ... Pn)"
   ]
  },
  {
   "cell_type": "code",
   "execution_count": 8,
   "id": "52b827fa-c884-42f5-bd72-35734a38f758",
   "metadata": {},
   "outputs": [],
   "source": [
    "production_matrix = pd.read_excel(\"SBD2.xlsx\", sheet_name=\"ProductionMatrix\", header=1)\n",
    "production_matrix = production_matrix.drop(['(blank)'], axis=1)\n",
    "production_matrix = production_matrix.iloc[:-2]\n",
    "production_matrix = production_matrix[[\"Row Labels\", \"Grand Total\"]]\n",
    "P = production_matrix[\"Row Labels\"].tolist()\n",
    "#P"
   ]
  },
  {
   "cell_type": "markdown",
   "id": "d42d3af2-b59e-4060-bbf4-5f61528fa3df",
   "metadata": {},
   "source": [
    "#### Contribution Margin for Pm in Cn [Rm,n]"
   ]
  },
  {
   "cell_type": "code",
   "execution_count": 10,
   "id": "73fc22f8-a090-41a6-8c5d-70232bf217e8",
   "metadata": {},
   "outputs": [
    {
     "data": {
      "text/html": [
       "<div>\n",
       "<style scoped>\n",
       "    .dataframe tbody tr th:only-of-type {\n",
       "        vertical-align: middle;\n",
       "    }\n",
       "\n",
       "    .dataframe tbody tr th {\n",
       "        vertical-align: top;\n",
       "    }\n",
       "\n",
       "    .dataframe thead th {\n",
       "        text-align: right;\n",
       "    }\n",
       "</style>\n",
       "<table border=\"1\" class=\"dataframe\">\n",
       "  <thead>\n",
       "    <tr style=\"text-align: right;\">\n",
       "      <th></th>\n",
       "      <th>Allentown</th>\n",
       "      <th>Charlotte</th>\n",
       "      <th>Chicago</th>\n",
       "      <th>Dallas</th>\n",
       "      <th>Fontana</th>\n",
       "      <th>Nashville</th>\n",
       "      <th>Portland</th>\n",
       "      <th>Tucson</th>\n",
       "    </tr>\n",
       "  </thead>\n",
       "  <tbody>\n",
       "    <tr>\n",
       "      <th>0</th>\n",
       "      <td>0.000000</td>\n",
       "      <td>0.000000</td>\n",
       "      <td>0.000000</td>\n",
       "      <td>0.000000</td>\n",
       "      <td>0.000000</td>\n",
       "      <td>0.417144</td>\n",
       "      <td>0.000000</td>\n",
       "      <td>0.229868</td>\n",
       "    </tr>\n",
       "    <tr>\n",
       "      <th>1</th>\n",
       "      <td>0.000000</td>\n",
       "      <td>0.248429</td>\n",
       "      <td>0.500158</td>\n",
       "      <td>0.172298</td>\n",
       "      <td>0.464887</td>\n",
       "      <td>0.000000</td>\n",
       "      <td>0.293694</td>\n",
       "      <td>0.000000</td>\n",
       "    </tr>\n",
       "    <tr>\n",
       "      <th>2</th>\n",
       "      <td>0.267870</td>\n",
       "      <td>0.312923</td>\n",
       "      <td>0.000000</td>\n",
       "      <td>0.000000</td>\n",
       "      <td>0.292407</td>\n",
       "      <td>0.000000</td>\n",
       "      <td>0.187039</td>\n",
       "      <td>0.000000</td>\n",
       "    </tr>\n",
       "    <tr>\n",
       "      <th>3</th>\n",
       "      <td>0.000000</td>\n",
       "      <td>0.000000</td>\n",
       "      <td>0.000000</td>\n",
       "      <td>0.000000</td>\n",
       "      <td>0.000000</td>\n",
       "      <td>0.000000</td>\n",
       "      <td>0.000000</td>\n",
       "      <td>0.409059</td>\n",
       "    </tr>\n",
       "    <tr>\n",
       "      <th>4</th>\n",
       "      <td>0.000000</td>\n",
       "      <td>0.000000</td>\n",
       "      <td>0.000000</td>\n",
       "      <td>0.000000</td>\n",
       "      <td>0.000000</td>\n",
       "      <td>0.000000</td>\n",
       "      <td>0.000000</td>\n",
       "      <td>0.461297</td>\n",
       "    </tr>\n",
       "    <tr>\n",
       "      <th>...</th>\n",
       "      <td>...</td>\n",
       "      <td>...</td>\n",
       "      <td>...</td>\n",
       "      <td>...</td>\n",
       "      <td>...</td>\n",
       "      <td>...</td>\n",
       "      <td>...</td>\n",
       "      <td>...</td>\n",
       "    </tr>\n",
       "    <tr>\n",
       "      <th>110</th>\n",
       "      <td>0.102838</td>\n",
       "      <td>0.186494</td>\n",
       "      <td>0.957254</td>\n",
       "      <td>1.100048</td>\n",
       "      <td>0.000000</td>\n",
       "      <td>0.177778</td>\n",
       "      <td>0.403307</td>\n",
       "      <td>0.000000</td>\n",
       "    </tr>\n",
       "    <tr>\n",
       "      <th>111</th>\n",
       "      <td>0.324883</td>\n",
       "      <td>0.000000</td>\n",
       "      <td>0.000000</td>\n",
       "      <td>0.000000</td>\n",
       "      <td>0.000000</td>\n",
       "      <td>0.198844</td>\n",
       "      <td>0.000000</td>\n",
       "      <td>0.000000</td>\n",
       "    </tr>\n",
       "    <tr>\n",
       "      <th>112</th>\n",
       "      <td>0.000000</td>\n",
       "      <td>0.875111</td>\n",
       "      <td>0.713066</td>\n",
       "      <td>0.000000</td>\n",
       "      <td>0.660749</td>\n",
       "      <td>0.000000</td>\n",
       "      <td>0.260806</td>\n",
       "      <td>0.000000</td>\n",
       "    </tr>\n",
       "    <tr>\n",
       "      <th>113</th>\n",
       "      <td>0.369882</td>\n",
       "      <td>0.000000</td>\n",
       "      <td>0.000000</td>\n",
       "      <td>0.000000</td>\n",
       "      <td>0.000000</td>\n",
       "      <td>0.000000</td>\n",
       "      <td>0.000000</td>\n",
       "      <td>0.315296</td>\n",
       "    </tr>\n",
       "    <tr>\n",
       "      <th>114</th>\n",
       "      <td>0.000000</td>\n",
       "      <td>0.332412</td>\n",
       "      <td>0.375030</td>\n",
       "      <td>0.605804</td>\n",
       "      <td>0.563303</td>\n",
       "      <td>0.000000</td>\n",
       "      <td>0.000000</td>\n",
       "      <td>0.000000</td>\n",
       "    </tr>\n",
       "  </tbody>\n",
       "</table>\n",
       "<p>115 rows × 8 columns</p>\n",
       "</div>"
      ],
      "text/plain": [
       "     Allentown  Charlotte   Chicago    Dallas   Fontana  Nashville  Portland  \\\n",
       "0     0.000000   0.000000  0.000000  0.000000  0.000000   0.417144  0.000000   \n",
       "1     0.000000   0.248429  0.500158  0.172298  0.464887   0.000000  0.293694   \n",
       "2     0.267870   0.312923  0.000000  0.000000  0.292407   0.000000  0.187039   \n",
       "3     0.000000   0.000000  0.000000  0.000000  0.000000   0.000000  0.000000   \n",
       "4     0.000000   0.000000  0.000000  0.000000  0.000000   0.000000  0.000000   \n",
       "..         ...        ...       ...       ...       ...        ...       ...   \n",
       "110   0.102838   0.186494  0.957254  1.100048  0.000000   0.177778  0.403307   \n",
       "111   0.324883   0.000000  0.000000  0.000000  0.000000   0.198844  0.000000   \n",
       "112   0.000000   0.875111  0.713066  0.000000  0.660749   0.000000  0.260806   \n",
       "113   0.369882   0.000000  0.000000  0.000000  0.000000   0.000000  0.000000   \n",
       "114   0.000000   0.332412  0.375030  0.605804  0.563303   0.000000  0.000000   \n",
       "\n",
       "       Tucson  \n",
       "0    0.229868  \n",
       "1    0.000000  \n",
       "2    0.000000  \n",
       "3    0.409059  \n",
       "4    0.461297  \n",
       "..        ...  \n",
       "110  0.000000  \n",
       "111  0.000000  \n",
       "112  0.000000  \n",
       "113  0.315296  \n",
       "114  0.000000  \n",
       "\n",
       "[115 rows x 8 columns]"
      ]
     },
     "execution_count": 10,
     "metadata": {},
     "output_type": "execute_result"
    }
   ],
   "source": [
    "margin_matrix = pd.read_excel(\"SBD2.xlsx\", sheet_name=\"MarginMatrix\", header=1)\n",
    "margin_matrix = margin_matrix.drop(['(blank)','Grand Total'], axis=1)\n",
    "margin_matrix = margin_matrix.iloc[:-2]\n",
    "margin_matrix = margin_matrix.fillna(0)\n",
    "R = margin_matrix.drop(columns=[\"Row Labels\"])\n",
    "R"
   ]
  },
  {
   "cell_type": "markdown",
   "id": "59813431-6803-4cf5-b3ab-299c812fd6e0",
   "metadata": {},
   "source": [
    "#### Max Capacity in Cn [T0 to Tn]"
   ]
  },
  {
   "cell_type": "code",
   "execution_count": 12,
   "id": "0d336cab-d1d0-4d22-b0a7-9d6d294e7719",
   "metadata": {},
   "outputs": [
    {
     "data": {
      "text/plain": [
       "[25000000,\n",
       " 20000000,\n",
       " 50000000,\n",
       " 60000000,\n",
       " 30000000,\n",
       " 45000000,\n",
       " 15000000,\n",
       " 10000000]"
      ]
     },
     "execution_count": 12,
     "metadata": {},
     "output_type": "execute_result"
    }
   ],
   "source": [
    "city_cap_matrix = pd.read_excel(\"SBD2.xlsx\", sheet_name=\"CityCapacity\")\n",
    "city_cap_matrix = city_cap_matrix.rename(columns={\"Unnamed: 0\": \"Capacity Metric\"})\n",
    "city_cap_matrix = city_cap_matrix[city_cap_matrix[\"Capacity Metric\"] == \"Max Capacity\"]\n",
    "T = city_cap_matrix.drop(columns=[\"Capacity Metric\"])\n",
    "T = T.iloc[0].tolist()\n",
    "T"
   ]
  },
  {
   "cell_type": "markdown",
   "id": "d4fc8a22-2a21-4927-bf28-8eb0ed0d40ba",
   "metadata": {},
   "source": [
    "#### Total Required Production of Pm in all cities [D0, ... Dm]"
   ]
  },
  {
   "cell_type": "code",
   "execution_count": 14,
   "id": "af51e3a1-3008-4bb4-a17e-17a2aa52906b",
   "metadata": {},
   "outputs": [],
   "source": [
    "D = production_matrix[\"Grand Total\"].tolist()\n",
    "#D"
   ]
  },
  {
   "cell_type": "code",
   "execution_count": 15,
   "id": "4d17b191-0ca4-4f39-9a73-8b27149c6535",
   "metadata": {},
   "outputs": [
    {
     "data": {
      "text/html": [
       "<div>\n",
       "<style scoped>\n",
       "    .dataframe tbody tr th:only-of-type {\n",
       "        vertical-align: middle;\n",
       "    }\n",
       "\n",
       "    .dataframe tbody tr th {\n",
       "        vertical-align: top;\n",
       "    }\n",
       "\n",
       "    .dataframe thead th {\n",
       "        text-align: right;\n",
       "    }\n",
       "</style>\n",
       "<table border=\"1\" class=\"dataframe\">\n",
       "  <thead>\n",
       "    <tr style=\"text-align: right;\">\n",
       "      <th></th>\n",
       "      <th>Allentown</th>\n",
       "      <th>Charlotte</th>\n",
       "      <th>Chicago</th>\n",
       "      <th>Dallas</th>\n",
       "      <th>Fontana</th>\n",
       "      <th>Nashville</th>\n",
       "      <th>Portland</th>\n",
       "      <th>Tucson</th>\n",
       "    </tr>\n",
       "  </thead>\n",
       "  <tbody>\n",
       "    <tr>\n",
       "      <th>0</th>\n",
       "      <td>0.0</td>\n",
       "      <td>0.0</td>\n",
       "      <td>0.0</td>\n",
       "      <td>0.0</td>\n",
       "      <td>0.0</td>\n",
       "      <td>620932.0</td>\n",
       "      <td>0.0</td>\n",
       "      <td>213742.0</td>\n",
       "    </tr>\n",
       "    <tr>\n",
       "      <th>1</th>\n",
       "      <td>0.0</td>\n",
       "      <td>34146.0</td>\n",
       "      <td>453323.0</td>\n",
       "      <td>887734.0</td>\n",
       "      <td>586080.0</td>\n",
       "      <td>0.0</td>\n",
       "      <td>280893.0</td>\n",
       "      <td>0.0</td>\n",
       "    </tr>\n",
       "    <tr>\n",
       "      <th>2</th>\n",
       "      <td>687366.0</td>\n",
       "      <td>262349.0</td>\n",
       "      <td>0.0</td>\n",
       "      <td>0.0</td>\n",
       "      <td>324161.0</td>\n",
       "      <td>0.0</td>\n",
       "      <td>75844.0</td>\n",
       "      <td>0.0</td>\n",
       "    </tr>\n",
       "    <tr>\n",
       "      <th>3</th>\n",
       "      <td>0.0</td>\n",
       "      <td>0.0</td>\n",
       "      <td>0.0</td>\n",
       "      <td>0.0</td>\n",
       "      <td>0.0</td>\n",
       "      <td>0.0</td>\n",
       "      <td>0.0</td>\n",
       "      <td>254629.0</td>\n",
       "    </tr>\n",
       "    <tr>\n",
       "      <th>4</th>\n",
       "      <td>0.0</td>\n",
       "      <td>0.0</td>\n",
       "      <td>0.0</td>\n",
       "      <td>0.0</td>\n",
       "      <td>0.0</td>\n",
       "      <td>0.0</td>\n",
       "      <td>0.0</td>\n",
       "      <td>129325.0</td>\n",
       "    </tr>\n",
       "    <tr>\n",
       "      <th>...</th>\n",
       "      <td>...</td>\n",
       "      <td>...</td>\n",
       "      <td>...</td>\n",
       "      <td>...</td>\n",
       "      <td>...</td>\n",
       "      <td>...</td>\n",
       "      <td>...</td>\n",
       "      <td>...</td>\n",
       "    </tr>\n",
       "    <tr>\n",
       "      <th>110</th>\n",
       "      <td>565413.0</td>\n",
       "      <td>122624.0</td>\n",
       "      <td>1525662.0</td>\n",
       "      <td>1132476.0</td>\n",
       "      <td>0.0</td>\n",
       "      <td>1130398.0</td>\n",
       "      <td>175563.0</td>\n",
       "      <td>0.0</td>\n",
       "    </tr>\n",
       "    <tr>\n",
       "      <th>111</th>\n",
       "      <td>440054.0</td>\n",
       "      <td>0.0</td>\n",
       "      <td>0.0</td>\n",
       "      <td>0.0</td>\n",
       "      <td>0.0</td>\n",
       "      <td>172508.0</td>\n",
       "      <td>0.0</td>\n",
       "      <td>0.0</td>\n",
       "    </tr>\n",
       "    <tr>\n",
       "      <th>112</th>\n",
       "      <td>0.0</td>\n",
       "      <td>364832.0</td>\n",
       "      <td>818753.0</td>\n",
       "      <td>0.0</td>\n",
       "      <td>673321.0</td>\n",
       "      <td>0.0</td>\n",
       "      <td>71299.0</td>\n",
       "      <td>0.0</td>\n",
       "    </tr>\n",
       "    <tr>\n",
       "      <th>113</th>\n",
       "      <td>200687.0</td>\n",
       "      <td>0.0</td>\n",
       "      <td>0.0</td>\n",
       "      <td>0.0</td>\n",
       "      <td>0.0</td>\n",
       "      <td>0.0</td>\n",
       "      <td>0.0</td>\n",
       "      <td>247746.0</td>\n",
       "    </tr>\n",
       "    <tr>\n",
       "      <th>114</th>\n",
       "      <td>0.0</td>\n",
       "      <td>121067.0</td>\n",
       "      <td>873011.0</td>\n",
       "      <td>862994.0</td>\n",
       "      <td>292403.0</td>\n",
       "      <td>0.0</td>\n",
       "      <td>0.0</td>\n",
       "      <td>0.0</td>\n",
       "    </tr>\n",
       "  </tbody>\n",
       "</table>\n",
       "<p>115 rows × 8 columns</p>\n",
       "</div>"
      ],
      "text/plain": [
       "     Allentown  Charlotte    Chicago     Dallas   Fontana  Nashville  \\\n",
       "0          0.0        0.0        0.0        0.0       0.0   620932.0   \n",
       "1          0.0    34146.0   453323.0   887734.0  586080.0        0.0   \n",
       "2     687366.0   262349.0        0.0        0.0  324161.0        0.0   \n",
       "3          0.0        0.0        0.0        0.0       0.0        0.0   \n",
       "4          0.0        0.0        0.0        0.0       0.0        0.0   \n",
       "..         ...        ...        ...        ...       ...        ...   \n",
       "110   565413.0   122624.0  1525662.0  1132476.0       0.0  1130398.0   \n",
       "111   440054.0        0.0        0.0        0.0       0.0   172508.0   \n",
       "112        0.0   364832.0   818753.0        0.0  673321.0        0.0   \n",
       "113   200687.0        0.0        0.0        0.0       0.0        0.0   \n",
       "114        0.0   121067.0   873011.0   862994.0  292403.0        0.0   \n",
       "\n",
       "     Portland    Tucson  \n",
       "0         0.0  213742.0  \n",
       "1    280893.0       0.0  \n",
       "2     75844.0       0.0  \n",
       "3         0.0  254629.0  \n",
       "4         0.0  129325.0  \n",
       "..        ...       ...  \n",
       "110  175563.0       0.0  \n",
       "111       0.0       0.0  \n",
       "112   71299.0       0.0  \n",
       "113       0.0  247746.0  \n",
       "114       0.0       0.0  \n",
       "\n",
       "[115 rows x 8 columns]"
      ]
     },
     "execution_count": 15,
     "metadata": {},
     "output_type": "execute_result"
    }
   ],
   "source": [
    "#Used for Product Mix Constraint to set LB and UB for the new allocation matrix\n",
    "prod_matrix = pd.read_excel(\"SBD2.xlsx\", sheet_name=\"ProductionMatrix\", header=1)\n",
    "prod_matrix = prod_matrix.drop(['(blank)'], axis=1)\n",
    "prod_matrix = prod_matrix.iloc[:-2]\n",
    "prod_matrix = prod_matrix.drop(columns=[\"Row Labels\", \"Grand Total\"])\n",
    "prod_matrix = prod_matrix.fillna(0)\n",
    "\n",
    "prod_matrix"
   ]
  },
  {
   "cell_type": "markdown",
   "id": "82d448b5-3395-49ed-bee2-7f061d13d0a8",
   "metadata": {},
   "source": [
    "#### Calculate # of Cities and # of Products"
   ]
  },
  {
   "cell_type": "code",
   "execution_count": 17,
   "id": "a88e3e51-53fd-43c8-8493-dceb02a8ae25",
   "metadata": {},
   "outputs": [],
   "source": [
    "N = len(C) #number of cities\n",
    "M = len(P) #number of products"
   ]
  },
  {
   "cell_type": "markdown",
   "id": "273cc288-17e9-459e-9c0a-696a2f047249",
   "metadata": {},
   "source": [
    "## Build the LP Optimization Model "
   ]
  },
  {
   "cell_type": "markdown",
   "id": "7e377f08-565e-4d4c-8db3-bf319edf2e2f",
   "metadata": {},
   "source": [
    "#### (A) Define Decision Variables\n"
   ]
  },
  {
   "cell_type": "code",
   "execution_count": 20,
   "id": "23768ffe-8bef-4d06-bcc1-0f3cd40d3311",
   "metadata": {},
   "outputs": [],
   "source": [
    "# Create decision variable matrix: A[m,n] = production allocation in A[product, city]\n",
    "A = LpVariable.dicts(\n",
    "    \"Production\",\n",
    "    ((m, n) for m in range(0,M) for n in range(0,N)),\n",
    "    lowBound=0, #non-negativity for dec. vars\n",
    "    cat='Continuous'  # Use 'Integer' if units must be whole numbers\n",
    ")"
   ]
  },
  {
   "cell_type": "markdown",
   "id": "b7e985e8-9ae3-4d83-97c3-d0492dc4da9e",
   "metadata": {},
   "source": [
    "#### (B) Define Objective Function: Maximize Profit (Using Contribution Margin Here)"
   ]
  },
  {
   "cell_type": "code",
   "execution_count": 22,
   "id": "aa130e67-6f80-482b-b151-8a0bb6b0467d",
   "metadata": {},
   "outputs": [],
   "source": [
    "# Define Objective Function\n",
    "model = LpProblem(\"OptimizeAllocation\", LpMaximize) #Define the model\n",
    "\n",
    "objective_expr = lpSum(A[m, n] * R.iloc[m, n] for m in range(0,M) for n in range(0,N)) #Maximizing CM\n",
    "model += objective_expr, \"Objective\"\n"
   ]
  },
  {
   "cell_type": "markdown",
   "id": "cb931e97-e90c-4ea1-aad2-c7e5e903abad",
   "metadata": {},
   "source": [
    "#### (C) Define Constraints"
   ]
  },
  {
   "cell_type": "markdown",
   "id": "2f2d3756-cce3-4d7d-8c77-304378e2d40b",
   "metadata": {},
   "source": [
    "#### ① Non-negativity for decision variables. You cannot assign negative production allocation.\n",
    "This is already in the Decision Variable definition, where lowBound = 0\n"
   ]
  },
  {
   "cell_type": "markdown",
   "id": "7f378aaf-1968-470b-a930-8a46556489f2",
   "metadata": {},
   "source": [
    "#### ② In Shutdown City Cs , every Product  Px has zero allocation.\n"
   ]
  },
  {
   "cell_type": "code",
   "execution_count": 26,
   "id": "419ff4f1-c99a-47a0-898d-d3d038589aac",
   "metadata": {},
   "outputs": [],
   "source": [
    "#2. If there is a shutdown city Cs, for every product Px: Ax,s = 0\n",
    "S = C.index(\"Charlotte\") #choose shutdown city\n",
    "\n",
    "for m in range(0,M):\n",
    "    model += A[m,S] == 0, f\"Constraint4_{m}\""
   ]
  },
  {
   "cell_type": "markdown",
   "id": "b6f6f9bc-6b9a-43e2-bf4a-e91fb2f682d9",
   "metadata": {},
   "source": [
    "#### ③ Respect Product Capabilities: (For every City-Product pair Cn, Pm that doesn’t have the production capability, the new allocation is zero):\n"
   ]
  },
  {
   "cell_type": "code",
   "execution_count": 28,
   "id": "29ac6719-c1f5-4aec-abbf-cf739e08f822",
   "metadata": {},
   "outputs": [],
   "source": [
    "#3. For every combination Cn, Pm that is incompatible (Respect Product Capability)\n",
    "for n in range(0,N):\n",
    "    for m in range(0,M):\n",
    "        if R.iloc[m,n] == 0:\n",
    "            model += A[m,n] == 0, f\"Constraint2_{m}_and_{n}\""
   ]
  },
  {
   "cell_type": "markdown",
   "id": "8881e016-7381-4c2e-a76a-c4b8b589cfaf",
   "metadata": {},
   "source": [
    "#### ④ For every City, Cs , the Sum of City Production ≤ Total City Capacity:"
   ]
  },
  {
   "cell_type": "code",
   "execution_count": 30,
   "id": "b84d5b18-5158-4db9-95f3-ac7f1a0708f8",
   "metadata": {},
   "outputs": [],
   "source": [
    "#4. For every city, the SUM of the cities produciton <= total city capacity\n",
    "for n in range(0,N):\n",
    "\n",
    "    model += lpSum(A[m,n] for m in range(0,M)) <= T[n], f\"Constraint1_{n}\"\n"
   ]
  },
  {
   "cell_type": "markdown",
   "id": "01631e39-2ffb-4770-ab6d-a30e02399050",
   "metadata": {},
   "source": [
    "#### ⑤ For every Product, Px, the Sum of New Production of Product Must equal the Total Required Production of that Product (“Demand”)."
   ]
  },
  {
   "cell_type": "code",
   "execution_count": 32,
   "id": "ca4347c0-ba0e-4e49-a860-9ebd6cdfcad5",
   "metadata": {},
   "outputs": [],
   "source": [
    "#5. For every product, SUM of production of product in every city must equal the total requirement of product \n",
    "for m in range(0,M):\n",
    "    model += lpSum(A[m,n] for n in range(0,N)) == D[m], f\"Constraint3_{m}\""
   ]
  },
  {
   "cell_type": "markdown",
   "id": "996b253e-f73a-4b0d-8e60-59d161c101a2",
   "metadata": {},
   "source": [
    "#### ⑥ Product Mix Constraint: (Must produce at least ¼ and max 3.5 times the product if produced that product last year)."
   ]
  },
  {
   "cell_type": "code",
   "execution_count": 34,
   "id": "b021acbd-9075-4f3b-b467-27d22f009b62",
   "metadata": {},
   "outputs": [],
   "source": [
    "#6. Add Constraints to ensure some product mix\n",
    "for m in range(0,M):\n",
    "    for n in range(0,N):\n",
    "        if n == S: #cant force this constraint on a shutdown city\n",
    "            continue\n",
    "        model += A[m,n] >= 0.25 * prod_matrix.iloc[m,n], f\"Constraint6_1_{m}_and_{n}\"\n",
    "        model += A[m,n] <= 3.5 * prod_matrix.iloc[m,n], f\"Constraint6_2_{m}_and_{n}\""
   ]
  },
  {
   "cell_type": "markdown",
   "id": "081f4de7-cd1b-4282-882a-4225a4f5fa97",
   "metadata": {},
   "source": [
    "#### (D) Solve the Model\n",
    "\n",
    "- If Optimal, passes \"Capacity\" Consideration.\n",
    "- If Infeasible, does not pass \"Capacity\" Consideration given these assumptions, thus cannot consolidate that facility."
   ]
  },
  {
   "cell_type": "code",
   "execution_count": 36,
   "id": "b860853b-3c55-4581-90e4-4383e97313cf",
   "metadata": {},
   "outputs": [
    {
     "name": "stdout",
     "output_type": "stream",
     "text": [
      "Welcome to the CBC MILP Solver \n",
      "Version: 2.10.3 \n",
      "Build Date: Dec 15 2019 \n",
      "\n",
      "command line - /opt/anaconda3/lib/python3.12/site-packages/pulp/apis/../solverdir/cbc/osx/i64/cbc /var/folders/r3/n8r88kl13ms0trd0_w4nm2kh0000gn/T/95a178686aec42cb9371b0898c8da595-pulp.mps -max -timeMode elapsed -branch -printingOptions all -solution /var/folders/r3/n8r88kl13ms0trd0_w4nm2kh0000gn/T/95a178686aec42cb9371b0898c8da595-pulp.sol (default strategy 1)\n",
      "At line 2 NAME          MODEL\n",
      "At line 3 ROWS\n",
      "At line 2418 COLUMNS\n",
      "At line 6904 RHS\n",
      "At line 9318 BOUNDS\n",
      "At line 9319 ENDATA\n",
      "Problem MODEL has 2413 rows, 920 columns and 4130 elements\n",
      "Coin0008I MODEL read with 0 errors\n",
      "Option for timeMode changed from cpu to elapsed\n",
      "Presolve 57 (-2356) rows, 237 (-683) columns and 474 (-3656) elements\n",
      "0  Obj 42828252 Primal inf 87701967 (50) Dual inf 82.851232 (211)\n",
      "37  Obj 1.1592739e+08 Primal inf 45817259 (36)\n",
      "82  Obj 1.0813671e+08\n",
      "Optimal - objective value 1.0813671e+08\n",
      "After Postsolve, objective 1.0813671e+08, infeasibilities - dual 0 (0), primal 0 (0)\n",
      "Optimal objective 108136709.8 - 82 iterations time 0.002, Presolve 0.00\n",
      "Option for printingOptions changed from normal to all\n",
      "Total time (CPU seconds):       0.00   (Wallclock seconds):       0.02\n",
      "\n"
     ]
    },
    {
     "data": {
      "text/plain": [
       "1"
      ]
     },
     "execution_count": 36,
     "metadata": {},
     "output_type": "execute_result"
    }
   ],
   "source": [
    "# Solve Model\n",
    "model.solve()"
   ]
  },
  {
   "cell_type": "code",
   "execution_count": 37,
   "id": "bec9afd9-57af-4774-807e-d98fabed419f",
   "metadata": {},
   "outputs": [
    {
     "name": "stdout",
     "output_type": "stream",
     "text": [
      "Status: Optimal\n"
     ]
    }
   ],
   "source": [
    "print(\"Status:\", LpStatus[model.status])"
   ]
  },
  {
   "cell_type": "markdown",
   "id": "2c1040bd-ab1e-40a1-b11b-50d2f668dbf8",
   "metadata": {},
   "source": [
    "#### (E) Convert Results to DF, then Output Optimal Allocation to Excel for Further Analysis"
   ]
  },
  {
   "cell_type": "code",
   "execution_count": 39,
   "id": "16112eeb-cacb-4f9b-bb4f-bd332afadde4",
   "metadata": {},
   "outputs": [
    {
     "data": {
      "text/html": [
       "<div>\n",
       "<style scoped>\n",
       "    .dataframe tbody tr th:only-of-type {\n",
       "        vertical-align: middle;\n",
       "    }\n",
       "\n",
       "    .dataframe tbody tr th {\n",
       "        vertical-align: top;\n",
       "    }\n",
       "\n",
       "    .dataframe thead th {\n",
       "        text-align: right;\n",
       "    }\n",
       "</style>\n",
       "<table border=\"1\" class=\"dataframe\">\n",
       "  <thead>\n",
       "    <tr style=\"text-align: right;\">\n",
       "      <th>City</th>\n",
       "      <th>Allentown</th>\n",
       "      <th>Chicago</th>\n",
       "      <th>Dallas</th>\n",
       "      <th>Fontana</th>\n",
       "      <th>Nashville</th>\n",
       "      <th>Portland</th>\n",
       "      <th>Tucson</th>\n",
       "    </tr>\n",
       "    <tr>\n",
       "      <th>Product</th>\n",
       "      <th></th>\n",
       "      <th></th>\n",
       "      <th></th>\n",
       "      <th></th>\n",
       "      <th></th>\n",
       "      <th></th>\n",
       "      <th></th>\n",
       "    </tr>\n",
       "  </thead>\n",
       "  <tbody>\n",
       "    <tr>\n",
       "      <th>Aerosol Bottle</th>\n",
       "      <td>0.00</td>\n",
       "      <td>0.00</td>\n",
       "      <td>0.0</td>\n",
       "      <td>0.00</td>\n",
       "      <td>781238.5</td>\n",
       "      <td>0.00</td>\n",
       "      <td>53435.5</td>\n",
       "    </tr>\n",
       "    <tr>\n",
       "      <th>Aerosol Can</th>\n",
       "      <td>0.00</td>\n",
       "      <td>1586630.50</td>\n",
       "      <td>221933.5</td>\n",
       "      <td>363388.75</td>\n",
       "      <td>0.0</td>\n",
       "      <td>70223.25</td>\n",
       "      <td>0.0</td>\n",
       "    </tr>\n",
       "    <tr>\n",
       "      <th>Bottle with Cap</th>\n",
       "      <td>1249718.80</td>\n",
       "      <td>0.00</td>\n",
       "      <td>0.0</td>\n",
       "      <td>81040.25</td>\n",
       "      <td>0.0</td>\n",
       "      <td>18961.00</td>\n",
       "      <td>0.0</td>\n",
       "    </tr>\n",
       "    <tr>\n",
       "      <th>Bottle with Logo</th>\n",
       "      <td>0.00</td>\n",
       "      <td>0.00</td>\n",
       "      <td>0.0</td>\n",
       "      <td>0.00</td>\n",
       "      <td>0.0</td>\n",
       "      <td>0.00</td>\n",
       "      <td>254629.0</td>\n",
       "    </tr>\n",
       "    <tr>\n",
       "      <th>Branded Bottle</th>\n",
       "      <td>0.00</td>\n",
       "      <td>0.00</td>\n",
       "      <td>0.0</td>\n",
       "      <td>0.00</td>\n",
       "      <td>0.0</td>\n",
       "      <td>0.00</td>\n",
       "      <td>129325.0</td>\n",
       "    </tr>\n",
       "    <tr>\n",
       "      <th>...</th>\n",
       "      <td>...</td>\n",
       "      <td>...</td>\n",
       "      <td>...</td>\n",
       "      <td>...</td>\n",
       "      <td>...</td>\n",
       "      <td>...</td>\n",
       "      <td>...</td>\n",
       "    </tr>\n",
       "    <tr>\n",
       "      <th>Vacuum-Insulated Bottle</th>\n",
       "      <td>141353.25</td>\n",
       "      <td>381415.50</td>\n",
       "      <td>3802877.0</td>\n",
       "      <td>0.00</td>\n",
       "      <td>282599.5</td>\n",
       "      <td>43890.75</td>\n",
       "      <td>0.0</td>\n",
       "    </tr>\n",
       "    <tr>\n",
       "      <th>Wide-Mouth Bottle</th>\n",
       "      <td>569435.00</td>\n",
       "      <td>0.00</td>\n",
       "      <td>0.0</td>\n",
       "      <td>0.00</td>\n",
       "      <td>43127.0</td>\n",
       "      <td>0.00</td>\n",
       "      <td>0.0</td>\n",
       "    </tr>\n",
       "    <tr>\n",
       "      <th>Wide-Mouth Can</th>\n",
       "      <td>0.00</td>\n",
       "      <td>1742050.00</td>\n",
       "      <td>0.0</td>\n",
       "      <td>168330.25</td>\n",
       "      <td>0.0</td>\n",
       "      <td>17824.75</td>\n",
       "      <td>0.0</td>\n",
       "    </tr>\n",
       "    <tr>\n",
       "      <th>Windowed Bottle</th>\n",
       "      <td>386496.50</td>\n",
       "      <td>0.00</td>\n",
       "      <td>0.0</td>\n",
       "      <td>0.00</td>\n",
       "      <td>0.0</td>\n",
       "      <td>0.00</td>\n",
       "      <td>61936.5</td>\n",
       "    </tr>\n",
       "    <tr>\n",
       "      <th>Windowed Can</th>\n",
       "      <td>0.00</td>\n",
       "      <td>218252.75</td>\n",
       "      <td>1858121.5</td>\n",
       "      <td>73100.75</td>\n",
       "      <td>0.0</td>\n",
       "      <td>0.00</td>\n",
       "      <td>0.0</td>\n",
       "    </tr>\n",
       "  </tbody>\n",
       "</table>\n",
       "<p>115 rows × 7 columns</p>\n",
       "</div>"
      ],
      "text/plain": [
       "City                      Allentown     Chicago     Dallas    Fontana  \\\n",
       "Product                                                                 \n",
       "Aerosol Bottle                 0.00        0.00        0.0       0.00   \n",
       "Aerosol Can                    0.00  1586630.50   221933.5  363388.75   \n",
       "Bottle with Cap          1249718.80        0.00        0.0   81040.25   \n",
       "Bottle with Logo               0.00        0.00        0.0       0.00   \n",
       "Branded Bottle                 0.00        0.00        0.0       0.00   \n",
       "...                             ...         ...        ...        ...   \n",
       "Vacuum-Insulated Bottle   141353.25   381415.50  3802877.0       0.00   \n",
       "Wide-Mouth Bottle         569435.00        0.00        0.0       0.00   \n",
       "Wide-Mouth Can                 0.00  1742050.00        0.0  168330.25   \n",
       "Windowed Bottle           386496.50        0.00        0.0       0.00   \n",
       "Windowed Can                   0.00   218252.75  1858121.5   73100.75   \n",
       "\n",
       "City                     Nashville  Portland    Tucson  \n",
       "Product                                                 \n",
       "Aerosol Bottle            781238.5      0.00   53435.5  \n",
       "Aerosol Can                    0.0  70223.25       0.0  \n",
       "Bottle with Cap                0.0  18961.00       0.0  \n",
       "Bottle with Logo               0.0      0.00  254629.0  \n",
       "Branded Bottle                 0.0      0.00  129325.0  \n",
       "...                            ...       ...       ...  \n",
       "Vacuum-Insulated Bottle   282599.5  43890.75       0.0  \n",
       "Wide-Mouth Bottle          43127.0      0.00       0.0  \n",
       "Wide-Mouth Can                 0.0  17824.75       0.0  \n",
       "Windowed Bottle                0.0      0.00   61936.5  \n",
       "Windowed Can                   0.0      0.00       0.0  \n",
       "\n",
       "[115 rows x 7 columns]"
      ]
     },
     "execution_count": 39,
     "metadata": {},
     "output_type": "execute_result"
    }
   ],
   "source": [
    "import pandas as pd\n",
    "\n",
    "# Initialize list for (product, city, value)\n",
    "data = []\n",
    "\n",
    "for var in model.variables():\n",
    "    if var.name.startswith(\"Production_\") and var.varValue and var.varValue > 0:\n",
    "        # Parse index from variable name\n",
    "        stripped = var.name.replace(\"Production_(\", \"\").replace(\")\", \"\")\n",
    "        m_str, n_str = stripped.split(\",_\")\n",
    "        m = int(m_str)\n",
    "        n = int(n_str)\n",
    "\n",
    "        # Map indices to names\n",
    "        product_name = P[m]\n",
    "        city_name = C[n]\n",
    "        value = var.varValue\n",
    "\n",
    "        data.append((product_name, city_name, value))\n",
    "\n",
    "# Instantiate DF\n",
    "df = pd.DataFrame(data, columns=[\"Product\", \"City\", \"Production\"])\n",
    "\n",
    "# Pivot to Excel format\n",
    "matrix_df = df.pivot(index=\"Product\", columns=\"City\", values=\"Production\").fillna(0)\n",
    "matrix_df = matrix_df.round(2)\n",
    "matrix_df\n"
   ]
  },
  {
   "cell_type": "code",
   "execution_count": 40,
   "id": "ea854dde-5347-4adc-8f63-65241a980631",
   "metadata": {},
   "outputs": [],
   "source": [
    "#Export to Excel \n",
    "#Outputs Match to \"2. Capacity + 3. Financial\" Tab in Excel\n",
    "matrix_df.to_excel(\"production_output11.xlsx\", sheet_name=\"Production Plan\")"
   ]
  }
 ],
 "metadata": {
  "kernelspec": {
   "display_name": "Python 3 (ipykernel)",
   "language": "python",
   "name": "python3"
  },
  "language_info": {
   "codemirror_mode": {
    "name": "ipython",
    "version": 3
   },
   "file_extension": ".py",
   "mimetype": "text/x-python",
   "name": "python",
   "nbconvert_exporter": "python",
   "pygments_lexer": "ipython3",
   "version": "3.12.4"
  }
 },
 "nbformat": 4,
 "nbformat_minor": 5
}
