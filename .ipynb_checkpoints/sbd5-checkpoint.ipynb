{
 "cells": [
  {
   "cell_type": "markdown",
   "id": "1ad49a4d-28a1-45e6-8a84-a876d01d9c14",
   "metadata": {},
   "source": [
    "## Imports"
   ]
  },
  {
   "cell_type": "code",
   "execution_count": null,
   "id": "1e2a6a58-0b16-49b0-bb5c-d76955a7ecf0",
   "metadata": {},
   "outputs": [],
   "source": [
    "import pandas as pd\n",
    "import numpy as np\n",
    "from pulp import LpMaximize, LpProblem, LpVariable, lpSum, LpStatus, value #Linear Optimization Library"
   ]
  },
  {
   "cell_type": "markdown",
   "id": "ab0ac348-9cb6-4446-9fee-0577c5ff28ac",
   "metadata": {},
   "source": [
    "## Load Given Variables"
   ]
  },
  {
   "attachments": {},
   "cell_type": "markdown",
   "id": "32cc259c-58ca-46eb-a3bb-0aefb72598c2",
   "metadata": {},
   "source": [
    "#### N+1 cities (C0 ... Cn)"
   ]
  },
  {
   "cell_type": "code",
   "execution_count": null,
   "id": "d80fd0e2-f6de-4c63-92db-a33035e31545",
   "metadata": {},
   "outputs": [],
   "source": [
    "C = ['Allentown', 'Charlotte', 'Chicago', 'Dallas', 'Fontana', 'Nashville', 'Portland', 'Tucson']\n",
    "C"
   ]
  },
  {
   "cell_type": "markdown",
   "id": "794d8c2d-67f2-4aaa-b7ca-9219b0a0eb07",
   "metadata": {},
   "source": [
    "#### M+1 products (P0 ... Pn)"
   ]
  },
  {
   "cell_type": "code",
   "execution_count": null,
   "id": "52b827fa-c884-42f5-bd72-35734a38f758",
   "metadata": {},
   "outputs": [],
   "source": [
    "production_matrix = pd.read_excel(\"SBD2.xlsx\", sheet_name=\"ProductionMatrix\", header=1)\n",
    "production_matrix = production_matrix.drop(['(blank)'], axis=1)\n",
    "production_matrix = production_matrix.iloc[:-2]\n",
    "production_matrix = production_matrix[[\"Row Labels\", \"Grand Total\"]]\n",
    "P = production_matrix[\"Row Labels\"].tolist()\n",
    "P"
   ]
  },
  {
   "cell_type": "markdown",
   "id": "d42d3af2-b59e-4060-bbf4-5f61528fa3df",
   "metadata": {},
   "source": [
    "#### Contribution Margin for Pm in Cn [Rm,n]"
   ]
  },
  {
   "cell_type": "code",
   "execution_count": null,
   "id": "73fc22f8-a090-41a6-8c5d-70232bf217e8",
   "metadata": {},
   "outputs": [],
   "source": [
    "margin_matrix = pd.read_excel(\"SBD2.xlsx\", sheet_name=\"MarginMatrix\", header=1)\n",
    "margin_matrix = margin_matrix.drop(['(blank)','Grand Total'], axis=1)\n",
    "margin_matrix = margin_matrix.iloc[:-2]\n",
    "margin_matrix = margin_matrix.fillna(0)\n",
    "R = margin_matrix.drop(columns=[\"Row Labels\"])\n",
    "R"
   ]
  },
  {
   "cell_type": "markdown",
   "id": "59813431-6803-4cf5-b3ab-299c812fd6e0",
   "metadata": {},
   "source": [
    "#### Max Capacity in Cn [T0 to Tn]"
   ]
  },
  {
   "cell_type": "code",
   "execution_count": null,
   "id": "0d336cab-d1d0-4d22-b0a7-9d6d294e7719",
   "metadata": {},
   "outputs": [],
   "source": [
    "city_cap_matrix = pd.read_excel(\"SBD2.xlsx\", sheet_name=\"CityCapacity\")\n",
    "city_cap_matrix = city_cap_matrix.rename(columns={\"Unnamed: 0\": \"Capacity Metric\"})\n",
    "city_cap_matrix = city_cap_matrix[city_cap_matrix[\"Capacity Metric\"] == \"Max Capacity\"]\n",
    "T = city_cap_matrix.drop(columns=[\"Capacity Metric\"])\n",
    "T = T.iloc[0].tolist()\n",
    "T"
   ]
  },
  {
   "cell_type": "markdown",
   "id": "d4fc8a22-2a21-4927-bf28-8eb0ed0d40ba",
   "metadata": {},
   "source": [
    "#### Total Required Production of Pm in all cities [D0, ... Dm]"
   ]
  },
  {
   "cell_type": "code",
   "execution_count": null,
   "id": "af51e3a1-3008-4bb4-a17e-17a2aa52906b",
   "metadata": {},
   "outputs": [],
   "source": [
    "D = production_matrix[\"Grand Total\"].tolist()\n",
    "D"
   ]
  },
  {
   "cell_type": "code",
   "execution_count": null,
   "id": "4d17b191-0ca4-4f39-9a73-8b27149c6535",
   "metadata": {},
   "outputs": [],
   "source": [
    "prod_matrix = pd.read_excel(\"SBD2.xlsx\", sheet_name=\"ProductionMatrix\", header=1)\n",
    "prod_matrix = prod_matrix.drop(['(blank)'], axis=1)\n",
    "prod_matrix = prod_matrix.iloc[:-2]\n",
    "prod_matrix = prod_matrix.drop(columns=[\"Row Labels\", \"Grand Total\"])\n",
    "prod_matrix = prod_matrix.fillna(0)\n",
    "\n",
    "prod_matrix"
   ]
  },
  {
   "cell_type": "markdown",
   "id": "82d448b5-3395-49ed-bee2-7f061d13d0a8",
   "metadata": {},
   "source": [
    "#### Calculate # of Cities of # Products"
   ]
  },
  {
   "cell_type": "code",
   "execution_count": null,
   "id": "a88e3e51-53fd-43c8-8493-dceb02a8ae25",
   "metadata": {},
   "outputs": [],
   "source": [
    "N = len(C) #number of cities\n",
    "M = len(P) #number of products"
   ]
  },
  {
   "cell_type": "markdown",
   "id": "273cc288-17e9-459e-9c0a-696a2f047249",
   "metadata": {},
   "source": [
    "## Build the LP Optimization"
   ]
  },
  {
   "cell_type": "markdown",
   "id": "7e377f08-565e-4d4c-8db3-bf319edf2e2f",
   "metadata": {},
   "source": [
    "#### (A) Define Decision Variables\n"
   ]
  },
  {
   "cell_type": "code",
   "execution_count": null,
   "id": "23768ffe-8bef-4d06-bcc1-0f3cd40d3311",
   "metadata": {},
   "outputs": [],
   "source": [
    "# Create decision variable matrix: A[m,n] = production allocation in A[product, city]\n",
    "A = LpVariable.dicts(\n",
    "    \"Production\",\n",
    "    ((m, n) for m in range(0,M) for n in range(0,N)),\n",
    "    lowBound=0, #non-negativity for dec. vars\n",
    "    cat='Continuous'  # Use 'Integer' if units must be whole numbers\n",
    ")"
   ]
  },
  {
   "cell_type": "markdown",
   "id": "b7e985e8-9ae3-4d83-97c3-d0492dc4da9e",
   "metadata": {},
   "source": [
    "#### (B) Define Objective Function: Maximize Profit (Using Contribution Margin Here)"
   ]
  },
  {
   "cell_type": "code",
   "execution_count": null,
   "id": "aa130e67-6f80-482b-b151-8a0bb6b0467d",
   "metadata": {},
   "outputs": [],
   "source": [
    "# Define Objective Function\n",
    "model = LpProblem(\"OptimizeAllocation\", LpMaximize) #Define the model\n",
    "\n",
    "objective_expr = lpSum(A[m, n] * R.iloc[m, n] for m in range(0,M) for n in range(0,N)) #Maximizing CM\n",
    "model += objective_expr, \"Objective\"\n"
   ]
  },
  {
   "cell_type": "markdown",
   "id": "cb931e97-e90c-4ea1-aad2-c7e5e903abad",
   "metadata": {},
   "source": [
    "#### (C) Define Constraints"
   ]
  },
  {
   "cell_type": "code",
   "execution_count": null,
   "id": "9b9d0ef0-a0e3-4f7f-9f26-b29b3a70c34e",
   "metadata": {},
   "outputs": [],
   "source": []
  },
  {
   "cell_type": "code",
   "execution_count": null,
   "id": "b84d5b18-5158-4db9-95f3-ac7f1a0708f8",
   "metadata": {},
   "outputs": [],
   "source": [
    "\n",
    "#4. For every city, the SUM of the cities produciton <= total city capacity\n",
    "\n",
    "for n in range(0,N):\n",
    "\n",
    "    model += lpSum(A[m,n] for m in range(0,M)) <= T[n], f\"Constraint1_{n}\"\n"
   ]
  },
  {
   "cell_type": "code",
   "execution_count": null,
   "id": "29ac6719-c1f5-4aec-abbf-cf739e08f822",
   "metadata": {},
   "outputs": [],
   "source": [
    "#2. For every combination Cn, Pm that is incompatible \n",
    "#(Respect Product Capability)\n",
    "\n",
    "for n in range(0,N):\n",
    "    for m in range(0,M):\n",
    "        if R.iloc[m,n] == 0:\n",
    "            model += A[m,n] == 0, f\"Constraint2_{m}_and_{n}\""
   ]
  },
  {
   "cell_type": "code",
   "execution_count": null,
   "id": "551a54b5-5b8c-4e5b-8b56-de59c25a2eb2",
   "metadata": {},
   "outputs": [],
   "source": [
    "#3. For every product, SUM of production of product in every city must equal the total requirement of product "
   ]
  },
  {
   "cell_type": "code",
   "execution_count": null,
   "id": "ca4347c0-ba0e-4e49-a860-9ebd6cdfcad5",
   "metadata": {},
   "outputs": [],
   "source": [
    "for m in range(0,M):\n",
    "    model += lpSum(A[m,n] for n in range(0,N)) == D[m], f\"Constraint3_{m}\""
   ]
  },
  {
   "cell_type": "code",
   "execution_count": null,
   "id": "39e0815f-2fa3-4121-a255-cae3d6be25c9",
   "metadata": {},
   "outputs": [],
   "source": [
    "#4. If there is a shutdown city Cs, for every product Px: Ax,s = 0"
   ]
  },
  {
   "cell_type": "code",
   "execution_count": null,
   "id": "419ff4f1-c99a-47a0-898d-d3d038589aac",
   "metadata": {},
   "outputs": [],
   "source": [
    "S = C.index(\"Charlotte\") #choose shutdown city\n",
    "\n",
    "for m in range(0,M):\n",
    "    model += A[m,S] == 0, f\"Constraint4_{m}\""
   ]
  },
  {
   "cell_type": "code",
   "execution_count": null,
   "id": "a00e32e5-ea76-45fe-9c7d-2890d837cef2",
   "metadata": {},
   "outputs": [],
   "source": [
    "#5. Non-negativity for decision variables (already in dec var creation)"
   ]
  },
  {
   "cell_type": "code",
   "execution_count": null,
   "id": "2fe6beb7-7a06-4c46-85ba-11f608574210",
   "metadata": {},
   "outputs": [],
   "source": [
    "#6. Add Constraints to ensure some product mix"
   ]
  },
  {
   "cell_type": "code",
   "execution_count": null,
   "id": "b021acbd-9075-4f3b-b467-27d22f009b62",
   "metadata": {},
   "outputs": [],
   "source": [
    "for m in range(0,M):\n",
    "    for n in range(0,N):\n",
    "        if n == S: #cant force this constraint on a shutdown city\n",
    "            continue\n",
    "        model += A[m,n] >= 0.25 * prod_matrix.iloc[m,n], f\"Constraint6_1_{m}_and_{n}\"\n",
    "        model += A[m,n] <= 3.5 * prod_matrix.iloc[m,n], f\"Constraint6_2_{m}_and_{n}\""
   ]
  },
  {
   "cell_type": "code",
   "execution_count": null,
   "id": "b860853b-3c55-4581-90e4-4383e97313cf",
   "metadata": {},
   "outputs": [],
   "source": [
    "# Solve Model\n",
    "model.solve()"
   ]
  },
  {
   "cell_type": "code",
   "execution_count": null,
   "id": "bec9afd9-57af-4774-807e-d98fabed419f",
   "metadata": {},
   "outputs": [],
   "source": [
    "print(\"Status:\", LpStatus[model.status])"
   ]
  },
  {
   "cell_type": "code",
   "execution_count": null,
   "id": "16112eeb-cacb-4f9b-bb4f-bd332afadde4",
   "metadata": {},
   "outputs": [],
   "source": [
    "import pandas as pd\n",
    "\n",
    "# Initialize list for (product, city, value)\n",
    "data = []\n",
    "\n",
    "for var in model.variables():\n",
    "    if var.name.startswith(\"Production_\") and var.varValue and var.varValue > 0:\n",
    "        # Parse index from variable name\n",
    "        stripped = var.name.replace(\"Production_(\", \"\").replace(\")\", \"\")\n",
    "        m_str, n_str = stripped.split(\",_\")\n",
    "        m = int(m_str)\n",
    "        n = int(n_str)\n",
    "\n",
    "        # Map indices to names\n",
    "        product_name = P[m]\n",
    "        city_name = C[n]\n",
    "        value = var.varValue\n",
    "\n",
    "        data.append((product_name, city_name, value))\n",
    "\n",
    "# Create long-format DataFrame\n",
    "df = pd.DataFrame(data, columns=[\"Product\", \"City\", \"Production\"])\n",
    "\n",
    "# Pivot to wide format like the Excel screenshot\n",
    "matrix_df = df.pivot(index=\"Product\", columns=\"City\", values=\"Production\").fillna(0)\n",
    "\n",
    "# Optional: Round for display\n",
    "matrix_df = matrix_df.round(2)\n",
    "\n",
    "# Show it\n",
    "matrix_df\n"
   ]
  },
  {
   "cell_type": "code",
   "execution_count": null,
   "id": "ea854dde-5347-4adc-8f63-65241a980631",
   "metadata": {},
   "outputs": [],
   "source": [
    "# Export to Excel\n",
    "matrix_df.to_excel(\"production_output11.xlsx\", sheet_name=\"Production Plan\")\n"
   ]
  }
 ],
 "metadata": {
  "kernelspec": {
   "display_name": "Python 3 (ipykernel)",
   "language": "python",
   "name": "python3"
  },
  "language_info": {
   "codemirror_mode": {
    "name": "ipython",
    "version": 3
   },
   "file_extension": ".py",
   "mimetype": "text/x-python",
   "name": "python",
   "nbconvert_exporter": "python",
   "pygments_lexer": "ipython3",
   "version": "3.12.4"
  }
 },
 "nbformat": 4,
 "nbformat_minor": 5
}
